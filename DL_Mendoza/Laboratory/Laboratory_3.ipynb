{
  "nbformat": 4,
  "nbformat_minor": 0,
  "metadata": {
    "colab": {
      "provenance": []
    },
    "kernelspec": {
      "name": "python3",
      "display_name": "Python 3"
    },
    "language_info": {
      "name": "python"
    }
  },
  "cells": [
    {
      "cell_type": "markdown",
      "source": [
        "# **LABORATORY TASK 3**\n",
        "\n",
        "**Monique Antoinette R. Mendoza**\n",
        "\n",
        "**DS4A**\n",
        "\n",
        "\n",
        "---\n",
        "\n",
        "![image.png](data:image/png;base64,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)"
      ],
      "metadata": {
        "id": "OFlBC3qozj8R"
      }
    },
    {
      "cell_type": "code",
      "execution_count": 31,
      "metadata": {
        "id": "zITZfBu1wzmX"
      },
      "outputs": [],
      "source": [
        "import numpy as np"
      ]
    },
    {
      "cell_type": "code",
      "source": [
        "# Inputs and target\n",
        "x = np.array([[1, 0, 1]])   # Input values\n",
        "y = np.array([[1]])          # Target output\n"
      ],
      "metadata": {
        "id": "0CXi-5XYzphJ"
      },
      "execution_count": 32,
      "outputs": []
    },
    {
      "cell_type": "code",
      "source": [
        "# Weights from Laboratory Task 2\n",
        "W_hidden = np.array([[0.2, -0.3],\n",
        "                     [0.4, 0.1],\n",
        "                     [-0.5, 0.2]])\n",
        "\n",
        "W_output = np.array([[-0.3],\n",
        "                     [-0.2]])"
      ],
      "metadata": {
        "id": "2o6Nyt76z0hI"
      },
      "execution_count": 33,
      "outputs": []
    },
    {
      "cell_type": "code",
      "source": [
        "# Biases\n",
        "theta_hidden = np.array([[-0.4, 0.2, 0.1]]).T\n",
        "b_hidden = theta_hidden[:2].T\n",
        "b_output = theta_hidden[2:]"
      ],
      "metadata": {
        "id": "DlrJaj8Rz0kk"
      },
      "execution_count": 34,
      "outputs": []
    },
    {
      "cell_type": "code",
      "source": [
        "# Activation function: ReLU and its derivative\n",
        "def relu(z):\n",
        "    return np.maximum(0, z)\n",
        "\n",
        "def relu_derivative(z):\n",
        "    return (z > 0).astype(float)\n",
        "\n",
        "# Learning rate\n",
        "lr = 0.001"
      ],
      "metadata": {
        "id": "kiDVS8rRz0oC"
      },
      "execution_count": 35,
      "outputs": []
    },
    {
      "cell_type": "markdown",
      "source": [
        "# **FORWARD PROPAGATION**"
      ],
      "metadata": {
        "id": "vDeTds370oKi"
      }
    },
    {
      "cell_type": "code",
      "source": [
        "#  FORWARD PROPAGATION\n",
        "Z_hidden = np.dot(x, W_hidden) + b_hidden         # Hidden layer weighted sum\n",
        "A_hidden = relu(Z_hidden)                         # Hidden layer activation\n",
        "Z_output = np.dot(A_hidden, W_output) + b_output  # Output layer weighted sum\n",
        "y_pred = Z_output                                 # Linear output\n",
        "\n",
        "\n",
        "print(\"Hidden layer weighted sums (Z_hidden):\\n\", Z_hidden)\n",
        "print(\"\\nHidden layer activations (A_hidden):\\n\", A_hidden)\n",
        "print(\"\\nPredicted Output (ŷ):\\n\", y_pred)\n"
      ],
      "metadata": {
        "colab": {
          "base_uri": "https://localhost:8080/"
        },
        "id": "3H5EKpah0Heq",
        "outputId": "c4660548-5cfb-4742-f68b-79ca8d4391fd"
      },
      "execution_count": 36,
      "outputs": [
        {
          "output_type": "stream",
          "name": "stdout",
          "text": [
            "Hidden layer weighted sums (Z_hidden):\n",
            " [[-0.7  0.1]]\n",
            "\n",
            "Hidden layer activations (A_hidden):\n",
            " [[0.  0.1]]\n",
            "\n",
            "Predicted Output (ŷ):\n",
            " [[0.08]]\n"
          ]
        }
      ]
    },
    {
      "cell_type": "code",
      "source": [
        "# Compute Error\n",
        "E = 0.5 * (y - y_pred)**2  # Error\n",
        "print(\"\\nError (E):\\n\", E)"
      ],
      "metadata": {
        "colab": {
          "base_uri": "https://localhost:8080/"
        },
        "id": "_Qjj1nFt0WWi",
        "outputId": "30f6cce6-78cf-45e9-d22d-0d6784b248ba"
      },
      "execution_count": 41,
      "outputs": [
        {
          "output_type": "stream",
          "name": "stdout",
          "text": [
            "\n",
            "Error (E):\n",
            " [[0.4232]]\n"
          ]
        }
      ]
    },
    {
      "cell_type": "markdown",
      "source": [
        "In this code we did **Forward Propagation** first, meaning we passed the inputs through the network to get a predicted output. The ReLU activation made sure negative values became zero. Our model predicted a value close to `0.08`, while the true value was `1`, so we calculated the error around `0.4232`, it shows how far the prediction is from the correct answer."
      ],
      "metadata": {
        "id": "CZ_Qav861SUk"
      }
    },
    {
      "cell_type": "markdown",
      "source": [
        "# **BACKWARD PROPAGATION**"
      ],
      "metadata": {
        "id": "G1h_3hMr0yv3"
      }
    },
    {
      "cell_type": "code",
      "source": [
        "# Derivative of error w.r.t output\n",
        "dE_dy = -(y - y_pred)\n",
        "\n",
        "# Gradient for output layer weights\n",
        "dE_dW_output = np.dot(A_hidden.T, dE_dy)\n"
      ],
      "metadata": {
        "id": "liIS9EwP03S4"
      },
      "execution_count": 38,
      "outputs": []
    },
    {
      "cell_type": "code",
      "source": [
        "# Gradient for hidden layer\n",
        "dE_dA_hidden = np.dot(dE_dy, W_output.T)\n",
        "dA_dZ_hidden = relu_derivative(Z_hidden)\n",
        "dE_dZ_hidden = dE_dA_hidden * dA_dZ_hidden\n",
        "dE_dW_hidden = np.dot(x.T, dE_dZ_hidden)"
      ],
      "metadata": {
        "id": "7xHPZIhX0_uu"
      },
      "execution_count": 39,
      "outputs": []
    },
    {
      "cell_type": "code",
      "source": [
        "#  UPDATE WEIGHTS\n",
        "W_output -= lr * dE_dW_output\n",
        "W_hidden -= lr * dE_dW_hidden\n",
        "\n",
        "print(\"\\nUpdated Hidden Weights:\\n\", W_hidden)\n",
        "print(\"\\nUpdated Output Weights:\\n\", W_output)"
      ],
      "metadata": {
        "colab": {
          "base_uri": "https://localhost:8080/"
        },
        "id": "UsE9XN6R0_1V",
        "outputId": "f44a1483-2831-4d17-8724-e4b979ae206a"
      },
      "execution_count": 40,
      "outputs": [
        {
          "output_type": "stream",
          "name": "stdout",
          "text": [
            "\n",
            "Updated Hidden Weights:\n",
            " [[ 0.2      -0.300184]\n",
            " [ 0.4       0.1     ]\n",
            " [-0.5       0.199816]]\n",
            "\n",
            "Updated Output Weights:\n",
            " [[-0.3     ]\n",
            " [-0.199908]]\n"
          ]
        }
      ]
    },
    {
      "cell_type": "markdown",
      "source": [
        "Here we did **Backward Propagation** to help the model learn. This calculated how much each weight affected the error and made small updates using the `learning rate = 0.001`. You can see that the output and hidden weights changed a little, the hidden weight went from `0.2` to `-0.300184`, while the output weights changed to `[[-0.3], [-0.199908]]`. These means the model adjusts its values slowly and carefully. This process helps the network improve its prediction little by little, reducing the error each time it learns."
      ],
      "metadata": {
        "id": "66iYXOnw2EjL"
      }
    }
  ]
}