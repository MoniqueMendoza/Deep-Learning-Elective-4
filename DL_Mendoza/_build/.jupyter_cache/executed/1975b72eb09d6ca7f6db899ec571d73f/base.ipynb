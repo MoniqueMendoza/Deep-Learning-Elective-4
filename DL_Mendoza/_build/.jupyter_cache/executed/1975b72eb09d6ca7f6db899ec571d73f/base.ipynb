{
 "cells": [
  {
   "cell_type": "code",
   "execution_count": 1,
   "metadata": {
    "colab": {
     "base_uri": "https://localhost:8080/"
    },
    "id": "Q2dVVGh7aJbb",
    "outputId": "1bb0c52c-1475-45e2-f10d-393fd9993a96"
   },
   "outputs": [
    {
     "name": "stdout",
     "output_type": "stream",
     "text": [
      "2.8.0+cpu\n"
     ]
    }
   ],
   "source": [
    "# 1 Perform Standard Imports\n",
    "import torch\n",
    "import numpy as np\n",
    "import sys\n",
    "import random\n",
    "print(torch.__version__)"
   ]
  },
  {
   "cell_type": "code",
   "execution_count": 2,
   "metadata": {
    "id": "kOPXbFRWd-FG"
   },
   "outputs": [],
   "source": [
    "# 2. Create a function called set_seed() This function sets the random seed for both NumPy and PyTorch.\n",
    "\n",
    "def set_seed(seed: int):\n",
    "    \"\"\"\n",
    "    Sets the seed for reproducibility.\n",
    "    Parameters:\n",
    "        seed (int): The seed value to use.\n",
    "    \"\"\"\n",
    "    np.random.seed(seed)       # sets the seed for NumPy random operations\n",
    "    torch.manual_seed(seed)    # sets the seed for PyTorch random operations"
   ]
  },
  {
   "cell_type": "code",
   "execution_count": 3,
   "metadata": {
    "colab": {
     "base_uri": "https://localhost:8080/"
    },
    "id": "FIv4w1uqeVqs",
    "outputId": "4d20912e-8884-402d-ca4b-890311bbdd54"
   },
   "outputs": [
    {
     "name": "stdout",
     "output_type": "stream",
     "text": [
      "No.3 - NumPy Array:\n",
      " [3 4 2 4 4 1]\n"
     ]
    }
   ],
   "source": [
    "# 3. Create a NumPy array \"arr\"  containing 6 random integers [0, 5) with seed = 42\n",
    "\n",
    "set_seed(42)\n",
    "arr = np.random.randint(0, 5, size=6)\n",
    "print(\"No.3 - NumPy Array:\\n\", arr)\n"
   ]
  },
  {
   "cell_type": "code",
   "execution_count": 4,
   "metadata": {
    "colab": {
     "base_uri": "https://localhost:8080/"
    },
    "id": "nvCxmuAaeV2t",
    "outputId": "7a6a1bb3-46aa-4fff-add4-30025dc7cc79"
   },
   "outputs": [
    {
     "name": "stdout",
     "output_type": "stream",
     "text": [
      "\n",
      "No.4 - Tensor x (from NumPy array):\n",
      " tensor([3, 4, 2, 4, 4, 1], dtype=torch.int32)\n"
     ]
    }
   ],
   "source": [
    "# 4. Create a tensor \"x\" from the array above\n",
    "x = torch.from_numpy(arr)\n",
    "print(\"\\nNo.4 - Tensor x (from NumPy array):\\n\", x)"
   ]
  },
  {
   "cell_type": "code",
   "execution_count": 5,
   "metadata": {
    "colab": {
     "base_uri": "https://localhost:8080/"
    },
    "id": "VJc2TI-feV57",
    "outputId": "5b45069f-a2a0-4d4e-e3d5-fb707044ac31"
   },
   "outputs": [
    {
     "name": "stdout",
     "output_type": "stream",
     "text": [
      "\n",
      "No.5 - Tensor x (converted to int64):\n",
      " tensor([3, 4, 2, 4, 4, 1])\n"
     ]
    }
   ],
   "source": [
    "# 5. Change dtype of x from int32 to int64\n",
    "x = x.to(torch.int64)\n",
    "print(\"\\nNo.5 - Tensor x (converted to int64):\\n\", x)"
   ]
  },
  {
   "cell_type": "code",
   "execution_count": 6,
   "metadata": {
    "colab": {
     "base_uri": "https://localhost:8080/"
    },
    "id": "oHJJbm3weV98",
    "outputId": "e2dc8db7-b9d5-4290-abb1-eadf6286e985"
   },
   "outputs": [
    {
     "name": "stdout",
     "output_type": "stream",
     "text": [
      "\n",
      "No.6 - Tensor x reshaped to 3x2:\n",
      " tensor([[3, 4],\n",
      "        [2, 4],\n",
      "        [4, 1]])\n"
     ]
    }
   ],
   "source": [
    "# 6. Reshape x into a 3x2 tensor\n",
    "x = x.reshape(3, 2)\n",
    "print(\"\\nNo.6 - Tensor x reshaped to 3x2:\\n\", x)\n"
   ]
  },
  {
   "cell_type": "code",
   "execution_count": 7,
   "metadata": {
    "colab": {
     "base_uri": "https://localhost:8080/"
    },
    "id": "eZSAI3WOeWIv",
    "outputId": "5b5ddd20-43a4-4cc8-e8af-dfff84a9ee2e"
   },
   "outputs": [
    {
     "name": "stdout",
     "output_type": "stream",
     "text": [
      "\n",
      "No.7 - Right-hand column of x:\n",
      " tensor([4, 4, 1])\n"
     ]
    }
   ],
   "source": [
    "# 7. Return the right-hand column of tensor x - We take all rows, last column (index 1)\n",
    "right_col = x[:, 1]\n",
    "print(\"\\nNo.7 - Right-hand column of x:\\n\", right_col)\n"
   ]
  },
  {
   "cell_type": "code",
   "execution_count": 8,
   "metadata": {
    "colab": {
     "base_uri": "https://localhost:8080/"
    },
    "id": "tz-lbxq8etpH",
    "outputId": "46a6f623-e445-48fb-8d08-a7732c1beeb2"
   },
   "outputs": [
    {
     "name": "stdout",
     "output_type": "stream",
     "text": [
      "\n",
      "No.8 - Tensor of squares of x:\n",
      " tensor([[ 9, 16],\n",
      "        [ 4, 16],\n",
      "        [16,  1]])\n"
     ]
    }
   ],
   "source": [
    "# 8. Return tensor of square values of x without changing x itself\n",
    "x_squared = x ** 2\n",
    "print(\"\\nNo.8 - Tensor of squares of x:\\n\", x_squared)"
   ]
  },
  {
   "cell_type": "code",
   "execution_count": 9,
   "metadata": {
    "colab": {
     "base_uri": "https://localhost:8080/"
    },
    "id": "n8wO2URIets2",
    "outputId": "1af3f0fd-3347-425d-bfb3-05b3ed8dc501"
   },
   "outputs": [
    {
     "name": "stdout",
     "output_type": "stream",
     "text": [
      "\n",
      "No.9 - Tensor y:\n",
      " tensor([[2, 2, 1],\n",
      "        [4, 1, 0]])\n"
     ]
    }
   ],
   "source": [
    "# 9. Create tensor y - Same number of elements as x (6 total)\n",
    "#    Since x is (3, 2), y should be (2, N)  so that x @ y works\n",
    "\n",
    "set_seed(42)  # reset the seed for reproducibility\n",
    "y = torch.randint(0, 5, (2, 3), dtype=torch.int64)\n",
    "print(\"\\nNo.9 - Tensor y:\\n\", y)"
   ]
  },
  {
   "cell_type": "code",
   "execution_count": 10,
   "metadata": {
    "colab": {
     "base_uri": "https://localhost:8080/"
    },
    "id": "04Krv4f5etxD",
    "outputId": "00b294fb-ca54-4439-fd91-5cbc37df44ad"
   },
   "outputs": [
    {
     "name": "stdout",
     "output_type": "stream",
     "text": [
      "\n",
      "No.10 - Matrix product of x and y:\n"
     ]
    },
    {
     "name": "stdout",
     "output_type": "stream",
     "text": [
      " tensor([[22, 10,  3],\n",
      "        [20,  8,  2],\n",
      "        [12,  9,  4]])\n"
     ]
    }
   ],
   "source": [
    "# 10. Find the matrix product of x and y\n",
    "matmul_result = torch.matmul(x, y)\n",
    "print(\"\\nNo.10 - Matrix product of x and y:\\n\", matmul_result)"
   ]
  }
 ],
 "metadata": {
  "colab": {
   "provenance": []
  },
  "kernelspec": {
   "display_name": "Python 3",
   "name": "python3"
  },
  "language_info": {
   "codemirror_mode": {
    "name": "ipython",
    "version": 3
   },
   "file_extension": ".py",
   "mimetype": "text/x-python",
   "name": "python",
   "nbconvert_exporter": "python",
   "pygments_lexer": "ipython3",
   "version": "3.13.2"
  }
 },
 "nbformat": 4,
 "nbformat_minor": 0
}