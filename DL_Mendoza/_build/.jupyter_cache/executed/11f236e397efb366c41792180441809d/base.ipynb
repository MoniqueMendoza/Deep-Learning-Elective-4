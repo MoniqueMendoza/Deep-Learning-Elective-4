{
 "cells": [
  {
   "cell_type": "code",
   "execution_count": 1,
   "metadata": {
    "id": "6f0Sitatc1xD"
   },
   "outputs": [],
   "source": [
    "import numpy as np"
   ]
  },
  {
   "cell_type": "code",
   "execution_count": 2,
   "metadata": {
    "id": "st_nEytthyxf"
   },
   "outputs": [],
   "source": [
    "#  Given Inputs\n",
    "x = np.array([[1], [0], [1]])   # column vector\n",
    "y = np.array([[1]])"
   ]
  },
  {
   "cell_type": "code",
   "execution_count": 3,
   "metadata": {
    "id": "8jyB0SHFhy1u"
   },
   "outputs": [],
   "source": [
    "# Hidden and output weights\n",
    "W_hidden = np.array([\n",
    "    [0.2, -0.3],\n",
    "    [0.4,  0.1],\n",
    "    [-0.5,  0.2]\n",
    "])\n",
    "\n",
    "W_output = np.array([[-0.3, -0.2]])\n",
    "\n",
    "# Bias (θ)\n",
    "theta = np.array([[-0.4], [0.2], [0.1]])"
   ]
  },
  {
   "cell_type": "code",
   "execution_count": 4,
   "metadata": {
    "id": "vidylzX_iBc2"
   },
   "outputs": [],
   "source": [
    "# ReLU activation function\n",
    "def relu(z):\n",
    "    return np.maximum(0, z)"
   ]
  },
  {
   "cell_type": "code",
   "execution_count": 5,
   "metadata": {
    "colab": {
     "base_uri": "https://localhost:8080/"
    },
    "id": "uf2BdrRgiBk_",
    "outputId": "78b0a411-8c03-437c-ee05-f45308cf2b42"
   },
   "outputs": [
    {
     "name": "stdout",
     "output_type": "stream",
     "text": [
      "Hidden layer weighted sums (Z_hidden):\n",
      " [[-0.7]\n",
      " [ 0.1]]\n",
      "\n",
      "Hidden layer activations (A_hidden):\n",
      " [[0. ]\n",
      " [0.1]]\n",
      "\n",
      "Predicted Output (ŷ):\n",
      " [[0.08]]\n"
     ]
    }
   ],
   "source": [
    "# Hidden layer computation\n",
    "Z_hidden = np.dot(W_hidden.T, x) + theta[:2]   # θ₁ and θ₂ for hidden layer\n",
    "print(\"Hidden layer weighted sums (Z_hidden):\\n\", Z_hidden)\n",
    "\n",
    "# Apply ReLU activation\n",
    "A_hidden = relu(Z_hidden)\n",
    "print(\"\\nHidden layer activations (A_hidden):\\n\", A_hidden)\n",
    "\n",
    "# Output layer weighted sum (with θ₃ bias)\n",
    "Z_output = np.dot(W_output, A_hidden) + theta[2]  # θ₃ for output bias\n",
    "y_pred = Z_output\n",
    "print(\"\\nPredicted Output (ŷ):\\n\", y_pred)\n"
   ]
  },
  {
   "cell_type": "code",
   "execution_count": 6,
   "metadata": {
    "colab": {
     "base_uri": "https://localhost:8080/"
    },
    "id": "6yfugFqnjZWm",
    "outputId": "b8f9fb37-fc80-40bb-81aa-d350a860764c"
   },
   "outputs": [
    {
     "name": "stdout",
     "output_type": "stream",
     "text": [
      "\n",
      "Error (E):\n",
      " [[0.4232]]\n"
     ]
    }
   ],
   "source": [
    "# Compute error\n",
    "E = 0.5 * (y - y_pred)**2\n",
    "print(\"\\nError (E):\\n\", E)"
   ]
  }
 ],
 "metadata": {
  "colab": {
   "provenance": []
  },
  "kernelspec": {
   "display_name": "Python 3",
   "name": "python3"
  },
  "language_info": {
   "codemirror_mode": {
    "name": "ipython",
    "version": 3
   },
   "file_extension": ".py",
   "mimetype": "text/x-python",
   "name": "python",
   "nbconvert_exporter": "python",
   "pygments_lexer": "ipython3",
   "version": "3.13.2"
  }
 },
 "nbformat": 4,
 "nbformat_minor": 0
}