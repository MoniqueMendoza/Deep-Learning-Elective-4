{
 "cells": [
  {
   "cell_type": "code",
   "execution_count": 1,
   "metadata": {
    "id": "zITZfBu1wzmX"
   },
   "outputs": [],
   "source": [
    "import numpy as np"
   ]
  },
  {
   "cell_type": "code",
   "execution_count": 2,
   "metadata": {
    "id": "0CXi-5XYzphJ"
   },
   "outputs": [],
   "source": [
    "# Inputs and target\n",
    "x = np.array([[1, 0, 1]])   # Input values\n",
    "y = np.array([[1]])          # Target output\n"
   ]
  },
  {
   "cell_type": "code",
   "execution_count": 3,
   "metadata": {
    "id": "2o6Nyt76z0hI"
   },
   "outputs": [],
   "source": [
    "# Weights from Laboratory Task 2\n",
    "W_hidden = np.array([[0.2, -0.3],\n",
    "                     [0.4, 0.1],\n",
    "                     [-0.5, 0.2]])\n",
    "\n",
    "W_output = np.array([[-0.3],\n",
    "                     [-0.2]])"
   ]
  },
  {
   "cell_type": "code",
   "execution_count": 4,
   "metadata": {
    "id": "DlrJaj8Rz0kk"
   },
   "outputs": [],
   "source": [
    "# Biases\n",
    "theta_hidden = np.array([[-0.4, 0.2, 0.1]]).T\n",
    "b_hidden = theta_hidden[:2].T\n",
    "b_output = theta_hidden[2:]"
   ]
  },
  {
   "cell_type": "code",
   "execution_count": 5,
   "metadata": {
    "id": "kiDVS8rRz0oC"
   },
   "outputs": [],
   "source": [
    "# Activation function: ReLU and its derivative\n",
    "def relu(z):\n",
    "    return np.maximum(0, z)\n",
    "\n",
    "def relu_derivative(z):\n",
    "    return (z > 0).astype(float)\n",
    "\n",
    "# Learning rate\n",
    "lr = 0.001"
   ]
  },
  {
   "cell_type": "code",
   "execution_count": 6,
   "metadata": {
    "colab": {
     "base_uri": "https://localhost:8080/"
    },
    "id": "3H5EKpah0Heq",
    "outputId": "c4660548-5cfb-4742-f68b-79ca8d4391fd"
   },
   "outputs": [
    {
     "name": "stdout",
     "output_type": "stream",
     "text": [
      "Hidden layer weighted sums (Z_hidden):\n",
      " [[-0.7  0.1]]\n",
      "\n",
      "Hidden layer activations (A_hidden):\n",
      " [[0.  0.1]]\n",
      "\n",
      "Predicted Output (ŷ):\n",
      " [[0.08]]\n"
     ]
    }
   ],
   "source": [
    "#  FORWARD PROPAGATION\n",
    "Z_hidden = np.dot(x, W_hidden) + b_hidden         # Hidden layer weighted sum\n",
    "A_hidden = relu(Z_hidden)                         # Hidden layer activation\n",
    "Z_output = np.dot(A_hidden, W_output) + b_output  # Output layer weighted sum\n",
    "y_pred = Z_output                                 # Linear output\n",
    "\n",
    "\n",
    "print(\"Hidden layer weighted sums (Z_hidden):\\n\", Z_hidden)\n",
    "print(\"\\nHidden layer activations (A_hidden):\\n\", A_hidden)\n",
    "print(\"\\nPredicted Output (ŷ):\\n\", y_pred)\n"
   ]
  },
  {
   "cell_type": "code",
   "execution_count": 7,
   "metadata": {
    "colab": {
     "base_uri": "https://localhost:8080/"
    },
    "id": "_Qjj1nFt0WWi",
    "outputId": "30f6cce6-78cf-45e9-d22d-0d6784b248ba"
   },
   "outputs": [
    {
     "name": "stdout",
     "output_type": "stream",
     "text": [
      "\n",
      "Error (E):\n",
      " [[0.4232]]\n"
     ]
    }
   ],
   "source": [
    "# Compute Error\n",
    "E = 0.5 * (y - y_pred)**2  # Error\n",
    "print(\"\\nError (E):\\n\", E)"
   ]
  },
  {
   "cell_type": "code",
   "execution_count": 8,
   "metadata": {
    "id": "liIS9EwP03S4"
   },
   "outputs": [],
   "source": [
    "# Derivative of error w.r.t output\n",
    "dE_dy = -(y - y_pred)\n",
    "\n",
    "# Gradient for output layer weights\n",
    "dE_dW_output = np.dot(A_hidden.T, dE_dy)\n"
   ]
  },
  {
   "cell_type": "code",
   "execution_count": 9,
   "metadata": {
    "id": "7xHPZIhX0_uu"
   },
   "outputs": [],
   "source": [
    "# Gradient for hidden layer\n",
    "dE_dA_hidden = np.dot(dE_dy, W_output.T)\n",
    "dA_dZ_hidden = relu_derivative(Z_hidden)\n",
    "dE_dZ_hidden = dE_dA_hidden * dA_dZ_hidden\n",
    "dE_dW_hidden = np.dot(x.T, dE_dZ_hidden)"
   ]
  },
  {
   "cell_type": "code",
   "execution_count": 10,
   "metadata": {
    "colab": {
     "base_uri": "https://localhost:8080/"
    },
    "id": "UsE9XN6R0_1V",
    "outputId": "f44a1483-2831-4d17-8724-e4b979ae206a"
   },
   "outputs": [
    {
     "name": "stdout",
     "output_type": "stream",
     "text": [
      "\n",
      "Updated Hidden Weights:\n",
      " [[ 0.2      -0.300184]\n",
      " [ 0.4       0.1     ]\n",
      " [-0.5       0.199816]]\n",
      "\n",
      "Updated Output Weights:\n",
      " [[-0.3     ]\n",
      " [-0.199908]]\n"
     ]
    }
   ],
   "source": [
    "#  UPDATE WEIGHTS\n",
    "W_output -= lr * dE_dW_output\n",
    "W_hidden -= lr * dE_dW_hidden\n",
    "\n",
    "print(\"\\nUpdated Hidden Weights:\\n\", W_hidden)\n",
    "print(\"\\nUpdated Output Weights:\\n\", W_output)"
   ]
  }
 ],
 "metadata": {
  "colab": {
   "provenance": []
  },
  "kernelspec": {
   "display_name": "Python 3",
   "name": "python3"
  },
  "language_info": {
   "codemirror_mode": {
    "name": "ipython",
    "version": 3
   },
   "file_extension": ".py",
   "mimetype": "text/x-python",
   "name": "python",
   "nbconvert_exporter": "python",
   "pygments_lexer": "ipython3",
   "version": "3.13.2"
  }
 },
 "nbformat": 4,
 "nbformat_minor": 0
}