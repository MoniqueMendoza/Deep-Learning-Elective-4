{
  "nbformat": 4,
  "nbformat_minor": 0,
  "metadata": {
    "colab": {
      "provenance": []
    },
    "kernelspec": {
      "name": "python3",
      "display_name": "Python 3"
    },
    "language_info": {
      "name": "python"
    }
  },
  "cells": [
    {
      "cell_type": "markdown",
      "source": [
        "# **Lecture Task 1**\n",
        "\n",
        "**Monique Antoinette R. Mendoza**\n",
        "\n",
        "**DS4A**\n",
        "\n",
        "---\n",
        "***Instruction: Create a reaction paper (1 page) about the YouTube video titled \"Machine Learning: Living in the Age of AI | A WIRED Film\"***\n",
        "\n",
        "---\n",
        "\n",
        "\n",
        "\n",
        "After watching the documentary “Machine Learning: Living in the Age of AI” by WIRED, I learned that artificial intelligence is already making a big difference in our everyday lives. The video showed how AI is used in self-driving cars to make roads safer, in healthcare to detect diseases earlier, and in agriculture to help farmers grow crops more efficiently. I was amazed to see how technology can help doctors save lives a\\nd even assist elderly people through smart devices that make their daily routines easier. These advancements made me realize that AI isn’t just about robots, it’s about improving how people live and work.\n",
        "\n",
        "\n",
        "\n",
        "The video also gave a glimpse of what the future might look like with AI  becoming part of almost everything we do. It talked about how AI could lead to smarter cities, better education, and more personalized healthcare. But it also mentioned some challenges, like how machines might take over certain jobs or how AI could be misused if not controlled properly. I understood that while AI can bring so many opportunities, we also have to be careful about issues like data privacy, fairness, and ethics. The film made me think that technology alone isn’t enough, we need to guide it responsibly.\n",
        "\n",
        "\n",
        "\n",
        "From this video, I realized that balancing the good and bad sides of AI is very important. We should use AI to help people and make life easier, but not let it replace human judgment and compassion. It’s our responsibility to make sure AI is used fairly and safely, through proper rules, education and awareness. I learned that as long as humans stay in control and use AI for the right reasons, it can be a powerful tool to build a better and more equal future for everyone.\n"
      ],
      "metadata": {
        "id": "HUUwrKMVSOxu"
      }
    }
  ]
}