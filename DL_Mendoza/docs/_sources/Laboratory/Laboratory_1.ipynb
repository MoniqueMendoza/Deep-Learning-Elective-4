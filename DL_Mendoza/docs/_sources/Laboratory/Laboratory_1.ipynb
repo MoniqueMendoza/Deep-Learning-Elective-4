{
  "nbformat": 4,
  "nbformat_minor": 0,
  "metadata": {
    "colab": {
      "provenance": []
    },
    "kernelspec": {
      "name": "python3",
      "display_name": "Python 3"
    },
    "language_info": {
      "name": "python"
    }
  },
  "cells": [
    {
      "cell_type": "markdown",
      "source": [
        "# **LABORATORY TASK 1**\n",
        "**Monique Antoinette R. Mendoza**\n",
        "\n",
        "**DS4A**\n",
        "\n",
        "---\n",
        "# **Descriptive**\n",
        "\n",
        "* How many vaccine doses were distributed to each region in the past month?\n",
        "\n",
        "* What is the percentage of vaccinated individuals compared to the total population in each city?\n",
        "\n",
        "# **Diagnostic**\n",
        "\n",
        "* Why did vaccine demand decrease in some regions despite high infection rates?\n",
        "\n",
        "* What caused delays in vaccine delivery to certain hospitals last week?\n",
        "\n",
        "# **Predictive**\n",
        "\n",
        "* How many new COVID-19 cases are expected in the next two weeks based on current trends?\n",
        "\n",
        "* What is the predicted demand for booster shots in the next quarter?\n",
        "\n",
        "# **Prescriptive**\n",
        "\n",
        "* What is the best vaccine distribution plan to minimize shortages in high-risk areas?\n",
        "\n",
        "* How should production be adjusted if predicted infection rates start to rise again?\n",
        "\n"
      ],
      "metadata": {
        "id": "vKrJL_zRbM7O"
      }
    }
  ]
}