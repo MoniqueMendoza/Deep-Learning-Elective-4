{
  "nbformat": 4,
  "nbformat_minor": 0,
  "metadata": {
    "colab": {
      "provenance": []
    },
    "kernelspec": {
      "name": "python3",
      "display_name": "Python 3"
    },
    "language_info": {
      "name": "python"
    }
  },
  "cells": [
    {
      "cell_type": "markdown",
      "source": [
        "# **LABORATORY TASK 4**\n",
        "\n",
        "**Monique Antoinette R. Mendoza**\n",
        "\n",
        "**DS4A**\n",
        "\n",
        "\n",
        "---\n",
        "\n",
        "![image.png](data:image/png;base64,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)"
      ],
      "metadata": {
        "id": "9Qk25xa4iAnT"
      }
    },
    {
      "cell_type": "code",
      "execution_count": 3,
      "metadata": {
        "colab": {
          "base_uri": "https://localhost:8080/"
        },
        "id": "GNUZmoSgATSL",
        "outputId": "df3c3d72-3f6d-422a-85b5-419ff33c2145"
      },
      "outputs": [
        {
          "output_type": "stream",
          "name": "stdout",
          "text": [
            "PyTorch version: 2.8.0+cu126\n"
          ]
        }
      ],
      "source": [
        "import torch\n",
        "import torch.nn as nn\n",
        "import torch.optim as optim\n",
        "from torch.utils.data import DataLoader, TensorDataset\n",
        "\n",
        "print(\"PyTorch version:\", torch.__version__)"
      ]
    },
    {
      "cell_type": "code",
      "source": [
        "# Let's create a simple regression dataset (y = 3x + 2 + noise)\n",
        "X = torch.linspace(0, 10, 100).view(-1, 1)\n",
        "y = 3 * X + 2 + torch.randn(X.size()) * 0.5  # adding noise\n",
        "\n",
        "# Create TensorDataset and DataLoader (Batch Size = 8)\n",
        "dataset = TensorDataset(X, y)\n",
        "loader = DataLoader(dataset, batch_size=8, shuffle=True)"
      ],
      "metadata": {
        "id": "pDq2f5ypi0H_"
      },
      "execution_count": 4,
      "outputs": []
    },
    {
      "cell_type": "code",
      "source": [
        "# Define the Model\n",
        "class LinearRegressionModel(nn.Module):\n",
        "    def __init__(self):\n",
        "        super(LinearRegressionModel, self).__init__()\n",
        "        self.fc1 = nn.Linear(1, 8)\n",
        "        self.fc2 = nn.Linear(8, 1)\n",
        "\n",
        "    def forward(self, x):\n",
        "        x = self.fc1(x)\n",
        "        x = torch.relu(x)            # Activation (ReLU)\n",
        "        x = self.fc2(x)\n",
        "        return x\n",
        "\n",
        "model = LinearRegressionModel()\n"
      ],
      "metadata": {
        "id": "yL9vdEWui1Z2"
      },
      "execution_count": 12,
      "outputs": []
    },
    {
      "cell_type": "code",
      "source": [
        "# Define Loss and Optimizer\n",
        "criterion = nn.MSELoss()               # Mean Squared Error Loss\n",
        "optimizer = optim.SGD(model.parameters(), lr=0.01)  # Stochastic Gradient Descent\n"
      ],
      "metadata": {
        "id": "j8IPnKwCi5Zr"
      },
      "execution_count": 13,
      "outputs": []
    },
    {
      "cell_type": "code",
      "source": [
        "# Train the Model\n",
        "epochs = 1000\n",
        "\n",
        "for epoch in range(epochs):\n",
        "    for batch_X, batch_y in loader:\n",
        "        # Forward pass\n",
        "        outputs = model(batch_X)\n",
        "        loss = criterion(outputs, batch_y)\n",
        "\n",
        "        # Backward pass\n",
        "        optimizer.zero_grad()\n",
        "        loss.backward()\n",
        "        optimizer.step()\n",
        "\n",
        "    # Print loss every 100 epochs\n",
        "    if (epoch+1) % 100 == 0:\n",
        "        print(f'Epoch [{epoch+1}/{epochs}], Loss: {loss.item():.4f}')\n"
      ],
      "metadata": {
        "colab": {
          "base_uri": "https://localhost:8080/"
        },
        "id": "csEoJ4fcjBvH",
        "outputId": "448cdf9f-3bfd-42fb-cd06-646f09461de2"
      },
      "execution_count": 7,
      "outputs": [
        {
          "output_type": "stream",
          "name": "stdout",
          "text": [
            "Epoch [100/1000], Loss: 2.4770\n",
            "Epoch [200/1000], Loss: 3.9731\n",
            "Epoch [300/1000], Loss: 1.2677\n",
            "Epoch [400/1000], Loss: 0.1744\n",
            "Epoch [500/1000], Loss: 1.3761\n",
            "Epoch [600/1000], Loss: 2.0831\n",
            "Epoch [700/1000], Loss: 7.5864\n",
            "Epoch [800/1000], Loss: 0.3930\n",
            "Epoch [900/1000], Loss: 0.4985\n",
            "Epoch [1000/1000], Loss: 1.3636\n"
          ]
        }
      ]
    },
    {
      "cell_type": "code",
      "source": [
        "# Test the Model\n",
        "test_X = torch.tensor([[4.0]])\n",
        "predicted = model(test_X).item()\n",
        "print(f\"\\nPredicted value for input 4.0: {predicted:.3f}\")"
      ],
      "metadata": {
        "colab": {
          "base_uri": "https://localhost:8080/"
        },
        "id": "urD84aChjJZb",
        "outputId": "a4349d76-9a91-4eb6-d201-f0f5ab537689"
      },
      "execution_count": 8,
      "outputs": [
        {
          "output_type": "stream",
          "name": "stdout",
          "text": [
            "\n",
            "Predicted value for input 4.0: 15.769\n"
          ]
        }
      ]
    },
    {
      "cell_type": "markdown",
      "source": [
        "The result shows the loss values changed a lot during training, which shows that this model was adjusting its weights to find the best line that fits the data. At the start the loss was `2.477`, meaning the model’s predictions were still far from the correct answers. As the training went on, the loss sometimes went down and sometimes went up again, showing that the model was still trying to balance and learn the right pattern.\n",
        "\n",
        "By the end of the 1000 epochs, the loss became **`1.3636`**, which means the model improved compared to the beginning but could still be better. When I tested it with `x = 4.0`, the model predicted **`15.769`** which is close to the real answer of **`14`** based on `y = 3x + 2`. This means this model learned the general relationship between x and y, even though the loss didn’t decrease smoothly."
      ],
      "metadata": {
        "id": "PVndlvDZllgT"
      }
    }
  ]
}